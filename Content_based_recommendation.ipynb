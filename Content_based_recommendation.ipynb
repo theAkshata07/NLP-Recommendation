{
  "nbformat": 4,
  "nbformat_minor": 0,
  "metadata": {
    "colab": {
      "name": "Content_based_recommendation.ipynb",
      "provenance": [],
      "collapsed_sections": []
    },
    "kernelspec": {
      "name": "python3",
      "display_name": "Python 3"
    },
    "language_info": {
      "name": "python"
    }
  },
  "cells": [
    {
      "cell_type": "code",
      "execution_count": null,
      "metadata": {
        "colab": {
          "base_uri": "https://localhost:8080/",
          "height": 112
        },
        "id": "Gr6eFiZmZsUH",
        "outputId": "f7f87f28-1668-48e8-bd2f-0f1d66cb730b"
      },
      "outputs": [
        {
          "output_type": "execute_result",
          "data": {
            "text/html": [
              "\n",
              "  <div id=\"df-7664fe23-dc3e-4f2a-8df4-342d65d25a80\">\n",
              "    <div class=\"colab-df-container\">\n",
              "      <div>\n",
              "<style scoped>\n",
              "    .dataframe tbody tr th:only-of-type {\n",
              "        vertical-align: middle;\n",
              "    }\n",
              "\n",
              "    .dataframe tbody tr th {\n",
              "        vertical-align: top;\n",
              "    }\n",
              "\n",
              "    .dataframe thead th {\n",
              "        text-align: right;\n",
              "    }\n",
              "</style>\n",
              "<table border=\"1\" class=\"dataframe\">\n",
              "  <thead>\n",
              "    <tr style=\"text-align: right;\">\n",
              "      <th></th>\n",
              "      <th>id</th>\n",
              "      <th>description</th>\n",
              "    </tr>\n",
              "  </thead>\n",
              "  <tbody>\n",
              "    <tr>\n",
              "      <th>0</th>\n",
              "      <td>1</td>\n",
              "      <td>Active classic boxers - There's a reason why o...</td>\n",
              "    </tr>\n",
              "    <tr>\n",
              "      <th>1</th>\n",
              "      <td>2</td>\n",
              "      <td>Active sport boxer briefs - Skinning up Glory ...</td>\n",
              "    </tr>\n",
              "  </tbody>\n",
              "</table>\n",
              "</div>\n",
              "      <button class=\"colab-df-convert\" onclick=\"convertToInteractive('df-7664fe23-dc3e-4f2a-8df4-342d65d25a80')\"\n",
              "              title=\"Convert this dataframe to an interactive table.\"\n",
              "              style=\"display:none;\">\n",
              "        \n",
              "  <svg xmlns=\"http://www.w3.org/2000/svg\" height=\"24px\"viewBox=\"0 0 24 24\"\n",
              "       width=\"24px\">\n",
              "    <path d=\"M0 0h24v24H0V0z\" fill=\"none\"/>\n",
              "    <path d=\"M18.56 5.44l.94 2.06.94-2.06 2.06-.94-2.06-.94-.94-2.06-.94 2.06-2.06.94zm-11 1L8.5 8.5l.94-2.06 2.06-.94-2.06-.94L8.5 2.5l-.94 2.06-2.06.94zm10 10l.94 2.06.94-2.06 2.06-.94-2.06-.94-.94-2.06-.94 2.06-2.06.94z\"/><path d=\"M17.41 7.96l-1.37-1.37c-.4-.4-.92-.59-1.43-.59-.52 0-1.04.2-1.43.59L10.3 9.45l-7.72 7.72c-.78.78-.78 2.05 0 2.83L4 21.41c.39.39.9.59 1.41.59.51 0 1.02-.2 1.41-.59l7.78-7.78 2.81-2.81c.8-.78.8-2.07 0-2.86zM5.41 20L4 18.59l7.72-7.72 1.47 1.35L5.41 20z\"/>\n",
              "  </svg>\n",
              "      </button>\n",
              "      \n",
              "  <style>\n",
              "    .colab-df-container {\n",
              "      display:flex;\n",
              "      flex-wrap:wrap;\n",
              "      gap: 12px;\n",
              "    }\n",
              "\n",
              "    .colab-df-convert {\n",
              "      background-color: #E8F0FE;\n",
              "      border: none;\n",
              "      border-radius: 50%;\n",
              "      cursor: pointer;\n",
              "      display: none;\n",
              "      fill: #1967D2;\n",
              "      height: 32px;\n",
              "      padding: 0 0 0 0;\n",
              "      width: 32px;\n",
              "    }\n",
              "\n",
              "    .colab-df-convert:hover {\n",
              "      background-color: #E2EBFA;\n",
              "      box-shadow: 0px 1px 2px rgba(60, 64, 67, 0.3), 0px 1px 3px 1px rgba(60, 64, 67, 0.15);\n",
              "      fill: #174EA6;\n",
              "    }\n",
              "\n",
              "    [theme=dark] .colab-df-convert {\n",
              "      background-color: #3B4455;\n",
              "      fill: #D2E3FC;\n",
              "    }\n",
              "\n",
              "    [theme=dark] .colab-df-convert:hover {\n",
              "      background-color: #434B5C;\n",
              "      box-shadow: 0px 1px 3px 1px rgba(0, 0, 0, 0.15);\n",
              "      filter: drop-shadow(0px 1px 2px rgba(0, 0, 0, 0.3));\n",
              "      fill: #FFFFFF;\n",
              "    }\n",
              "  </style>\n",
              "\n",
              "      <script>\n",
              "        const buttonEl =\n",
              "          document.querySelector('#df-7664fe23-dc3e-4f2a-8df4-342d65d25a80 button.colab-df-convert');\n",
              "        buttonEl.style.display =\n",
              "          google.colab.kernel.accessAllowed ? 'block' : 'none';\n",
              "\n",
              "        async function convertToInteractive(key) {\n",
              "          const element = document.querySelector('#df-7664fe23-dc3e-4f2a-8df4-342d65d25a80');\n",
              "          const dataTable =\n",
              "            await google.colab.kernel.invokeFunction('convertToInteractive',\n",
              "                                                     [key], {});\n",
              "          if (!dataTable) return;\n",
              "\n",
              "          const docLinkHtml = 'Like what you see? Visit the ' +\n",
              "            '<a target=\"_blank\" href=https://colab.research.google.com/notebooks/data_table.ipynb>data table notebook</a>'\n",
              "            + ' to learn more about interactive tables.';\n",
              "          element.innerHTML = '';\n",
              "          dataTable['output_type'] = 'display_data';\n",
              "          await google.colab.output.renderOutput(dataTable, element);\n",
              "          const docLink = document.createElement('div');\n",
              "          docLink.innerHTML = docLinkHtml;\n",
              "          element.appendChild(docLink);\n",
              "        }\n",
              "      </script>\n",
              "    </div>\n",
              "  </div>\n",
              "  "
            ],
            "text/plain": [
              "   id                                        description\n",
              "0   1  Active classic boxers - There's a reason why o...\n",
              "1   2  Active sport boxer briefs - Skinning up Glory ..."
            ]
          },
          "metadata": {},
          "execution_count": 16
        }
      ],
      "source": [
        "import pandas as pd\n",
        "from sklearn.feature_extraction.text import TfidfVectorizer\n",
        "from sklearn.metrics.pairwise import linear_kernel\n",
        "\n",
        "ds = pd.read_csv(\"/content/sample-data.csv\")\n",
        "ds.head(2)"
      ]
    },
    {
      "cell_type": "markdown",
      "source": [
        "![image.png](data:image/png;base64,iVBORw0KGgoAAAANSUhEUgAAAWwAAACKCAIAAAABl+fFAAAgAElEQVR4nO2deVwT177AD2YjJJAQQihLUJZiFFyiQBsXrmKppb3VAveVLrba2vus3nrr06pPe5+Pett61S4+uVpbN2jtVd4TxC5SiHXDEpVAFBQhQpSExCZACJDFZCbm/XHa6TQJECBsOt9PP/3EM+ec+c0w85vf+Z3f+R0fh8MBCAgICAbKuJEWgIDgQUMmk0kkEoPB0GdNuVwukUhMJtMwSDV0+BCWCAGBF5HJZAsXLoyIiKBQKOfOnaPT6T3VNBgM06dPBwBs2rRpxYoVwyijlyEsEQICb9LW1hYREREYGAgAOHDgQC81u7u7mUwmh8MJDg4eLumGBEKJEBB4E71eT6FQAAA0Gu3zzz9XqVQ91dRqtVQqFQAQGRk5fPINAYQSISDwJjqdDgCAIAgAgMPhfPzxxz3V7OjoAADYbLaAgIBhE28oIJQIAYE30Wg0AICIiIiEhAQAwOnTp6VSqduamM3CZrOHU0KvQygRAgJvApUIhUJZs2aNXq/ncDjvvfee25rNzc0AABRFeTzesIrobQglQkDgTVpaWgAAgYGBcXFxTzzxBABArVYXFRW51oTqJjw8fJgl9DqEEiEg8CZarRYAEBYWBgBYt26dXq9nMplbtmyxWCxONaH3JCIiYviF9C6EEiEg8BpQLwAAxo8fDwDg8/mvvvqq1WplMBi5ubn4mna7vbu7G6s5piGUCAGB14BRqgiCcDgcWLJ69WoAAI1GO3ToEH669969e1DjjPUgEUAoEQICL9Le3g5DP2CwGQCATqdv3LjRaDTyeLxt27ZhNU0mE4x2H+teVUAoEQICL3L37l0AgM1mCwkJwQozMzOh9/TChQsSiQQWYjbLWI80A4QSISDwIq2trRQKhUql+vv748u3bt0Kp3s//PBDWILZLL6+viMgqFchlAgBgdfQ6/UAgMDAQBqNhi8XCoUpKSkAALVaXVBQAH61RGw2G5fLHQlJvQmhRAgIvAZ0nbJYLNfFuzk5OTqdjslkfvLJJyiKKpVKCoWCoiihRAgIHnA8SQuCAZWI01gGwuPx/vKXv1itVgBAfn4+tFncqpuesFgsKIp6LsywQSgRAoIekUqln332mUwm87D+7du3Qc+hHytXrgQA0Gi04uLi2tpaGo0WExPjuTBffvllfn7+KNQjhBIhIHAPTDvG4/GmTJniSX3MUuhJiZDJ5JycHKPR2NnZCaPj+zW/m5ycbDabCwsLPW8yPBBKhIDADQaDobS0FADw7LPPkslkT5q0tbWRyWQEQbAgEVfS09MnTJgAAKBQKFarFT8T3CdCoTA2Nlan04nFYs9bDQOEEhnV6HQ6uVyuUCjsdvtIy+JlDAaD63KS0cOPP/4IAEhMTPTcWGhra4OztqGhob1U+6//+i/oEAH9jzSbN28elUqtr6/vJdfR8EMokVGKTqdbtWpVampqZmbm008/DaOnHxg+//zzuLi4P/7xj6NTOSoUCo1GQ6VSk5KSPG/V1tam1+tbWlqCgoJ6qSYUCp944gm1Wq3VauE6Pc+h0+lTp04FAFRUVPSr4ZDikZ1GMPwsX75cp9MxGAwmk2k0Gh+AiUA8er0+KioKAGCz2Tyfnhg2KisrAQBTp071cCADmT9//vHjxwMCAuLi4nqvuW3btiVLlpBIJKFQ2F/Zpk+fLpVKdTqdSqXi8/n9bT4UEEpkNKJQKG7dusVisZYsWfKA2SAQEokEf8DUXqMKnU4Hl8ZNmjSpXw3JZHJiYqInNel0uoc13baNjY1tbGysrKwcJUqEGM6MDAUFBRwOBwYvuqLVav38/Ewm0zPPPDPMghE0NTUBAHg83qjNWjhx4kQAgFqtHiVOJUKJjAxXr14NCwszGo1uj2Llo/BD/cBTV1cHRncG9sjISOjBHSXuVUKJjAzNzc3wOSAYVZhMJrPZDEZ3wjEymQytJJildcQZVp8IiqJwLaNbfxX0IzIYDNdDJpMJQZBRa172C4vFQqfTm5qaoJVht9ttNhuFQsHuCYqiMGaJSqUiCIKiKIIgo9D7ODzodDoYeO75+MJgMECnBpvNdo1A7/1OwuSGVCp1lHuyORyOTqfDpopHlmFVIsuXLz9//jyHw6murnY6dPDgwU2bNgEALl26FB0djT8E9yVEUfTHH38cgDd7VAF3TvT19eXxeBQK5Ysvvti5c+e9e/eefvrpvXv3AgBUKtW0adMmTJgAA5b+9Kc/mc1mnU534MCBzMzMEZRcp9N5GNTgec1eQFE0Pz//X//6l1qthuoVRdHJkycvWbKkl/tQUFBw5MiRW7du4TUyvgKZTL5+/Xov54WvJZlMHuVaG+o4LBvjyDKsw5mUlJSQkBCbzea6GOHChQsCgSAqKgrOruG5cuVKVFTUo48+2ufM2RiiX86Ofk00DgUoiubl5XkSKFlSUpKXlzfI9R0GgyEjI2PPnj0dHR1+fn5RUVEhISFkMlmtVm/ZsmXNmjVuW61Zs+bvf/+7TqeDTaKioqhUKovFCg8PDw8PZ7FYnpy6o6ODSqUymczByD8MYJczGnyrw6pE5s6dazKZGAyGkyVisViqqqooFAqNRjt//rxTK1gyc+ZMtyOdsQWbzb558+aNGzfUarXRaPz3f//369ev37hxY/fu3bACn89Xq9UffPCB0Wjs6Og4duyYTCa7ffv2yJohZDL5xRdflMlkveuRkpKS2traF198cZBab9WqVfAbu3Hjxp9++qm4uLisrOzMmTMLFy6kUqkXLlzYsWOHU5OCgoILFy4wGIysrKwzZ84UFxcXFxeXl5e//vrrHR0d2K12/UQ5AdXfiGvtPsHUHFwWPLIMqxKJjo4OCQmh0WgXLlzAl9+4cQOO/wEAly5dwn/HTCYT1Dh/+MMfhlPUoYNOp2NREgAAMpnMYDDwTy2dTodLMGAgFp1OHw3ak8/n965HMA0yyOAFsVhcU1ODIMjf/va37OxseLtIJBKPx9u6dWtKSgqFQvnyyy+dLPk9e/YwmcyYmJgNGzaw2WzYhMFgrFixIiUlhUaj7dmzx5NBCvSq+vn5DeYSHjaGVeOSyeTk5OQzZ85UVVVB/yIsl0gkFAqFy+V2dnbabLba2lrM91FTUwMjJvoVgEwwFEA9cvToUQBAWloa/pC3NAgA4MSJEzBO163xtW7duvT0dAaDcfbs2ezsbFio0+mMRiOFQlmwYIFrk5SUFIlEYrPZFAqFk7utX4jF4vr6+gE3HzAWi2XDhg3Df17PGW6zLTU1tbS0lEql3rhxAwvaO3v2LIIgS5YsOXnyZEdHx5UrVzAlUl5eTqFQwsPDB/PnHyQoiorFYg9NXBRFZ86c+QCk8HYLpkdQFE1PT4eFXtQgAIAzZ86wWKzZs2f3JACHw7FarefPn8eUiId44qmBNgi0R5xISkoSCAT9OuMwYLPZRlqEYVci06ZNAwBQKBSJRAKViMFgqKurI5PJc+bMaWxsrK+vP3/+/IoVK2B9uBx71qxZwyynE54Pkslk8oMdAIK3R9LT00tKShobG5ctW+YVvanT6eCtjo+P76lOQkJCVVUVPs6Kx+NBH8GPP/64fPlyp/rQD2I0Gj35DmEzQa6H2Gz26AkywFwho2GoO9xKhMfjTZgwoa2traysDK4Kqays9PPzCwwM5PF4c+fOPXbsWHV1NfS/6nQ6tVrt5+c3b968YZYTD5lMdrLeH3KgHikuLj548CCKotnZ2d6yvLCNFHqZveLz+VVVVU6FS5cu3bNnT319fW5u7htvvAFHyna7PS8vr7S0lEKhrFixwpMvAZPJtNlsPUUSjx6wSZnRoERGIGJ14cKFVqv11q1b8ImRSqUAgOTkZAAAzBbn5+dXU1MDALh27Ro0L/u7FIpgqOHz+eHh4WazOTg4eJjHbm4nNZcvXz5lyhQKhXLkyJHZs2e/9NJLL730UlJS0p49ewAA4eHh69ev96RzuIofRdHRMHXaC+3t7WDUbHw1AkokOTkZQRA/Pz9oZ54+fRoAABPqQzuFQqGUl5eDXx0iAoFg9JiRBJCSkhK1Wj1nzhy1Wl1SUuKtbuEfmkKhwKk6t7S1tbktz8/PnzlzJvxdU1NTU1Njs9mYTOaKFSv+93//18MBKXwtbTYb3Ch31KLRaAAAAQEBIy0IACOSCgB+MQAAUqk0KSkJhiQmJCTAo48//nhhYWFpaemGDRu+++67nlzuw4ndbvc8VS+CIJMmTXqwtV5RUZFarYajGC6XW1xcXFJSgvlZBwOPx4P+iBs3bvRUB4acOjlxLRbLunXrLl26NGXKlBdeeCE4OJhEIrFYrMjIyH4FfbDZbD8/P7PZrFQqR8l33hUURaEm7Vee56FjBJQImUwWiUQSieT06dOJiYl+fn7h4eHYMwHdIh0dHXDDQQRB5s6d69SDxWJpt9pD/X8XcNFiMAbRSB5GK7cYjACACDbTqdBtDw6Ho6mpiUwm+/j49NkzgiCe/2kHFhnZYjAGUnzwg2G3l9MT8O65XruHPeA1CACAz+dnZ2cXFBR4S4+kpqZWVVX99NNPbo8qFAq9Xs9gMDCjA/Lll19eunQJAHDw4MFBhopFRkbW19c3NTUNOOXHUHP37l04KQN35xxxRiYyLyUl5cKFCwiCHD58mEKh4FfEQPcHk8nMzc2F75hrtPvNtu6/nrq8fHrMa49NhiUfiCtLFD8fy54f4dmKh00/XOm22oqXPoWVVKt0S7/56cTz82NdlAiZTO7vbKKHKBSKAbR66+RFAMDxl5+Ab0u1SvfXU5ffEU32UIlUKFvXnK468fz82ODfzKW3Tl5cLIjE7mdPFBUVuc7F8Hi87OzsvLw8AICHegRGbbv1X2ZkZMBno6CgwPW2f/TRRxwOR6/XP/nkk/hyvV4PzdutW7cuWbKEz+cPePGLQCCor6/X6XTQuz+wTgaA3W53OByeaEAYrhIWFjYavKpgpFIBwMgxCoXS0tLiZGuw2WyYDrulpcVqtbqdl5nB582P5J2sV8LvZ3FNU4ni591PP+bhWwQAyJo8vu0eAptDCq41Pj0+BP9eDSkzZsyg0WglJSVwqrJfOyRtSZ3Rdg/5qkoOAGgxGLeeqU6PfuS5qZ6aPxNDOCwy+frddqzkxwZl2z0kbWIfGTTcahAIj8dbtmxZbW1tUVGRJzJER0dDr0d+fj4AwGQyYYfS0tKmTp1KoVC2b9+em5uLRaYqFIo1a9ZUVVUZjcZXX33VaTjz1FNPabVaGo1WWlr6wgsvzJ49e8GCBatWrcrNzRWLxf26vXw+H7rzoXffW6xZs0YgELhNQyUWi5999tmkpKTk5OQFCxb0vqwORVH47fFwI4thYGSUCJ/PDwwMhI+RzWaDwSMY8+fPh9PgbscykBWi+LZ7SO7FmsZWw0eSundEk2fw+zGCTQgNAgA0aH9ZSd3YavhJ3f7nvr7DXuS1115TKpUAgPT0dIFAEBcX5/mDPoPPmx0edLJe2dhq2PTDFX8a9d20foTzRrCZUSyGRKnFSvJkjenRj/SuggsLC9VqdS/xIFCPNDY2eqJH5syZAw2HL774Ai68xG+nsn//fniWw4cPp6amCgQCgUCwaNEiiURiMplSUlJcIziFQmFZWRkAANsE12g0VlVVHTlyZOPGjdOnT9+yZYvnSaHhU1dTU+PFPNLFxcUsFsvV+CoqKlq9ejVUHDabDeZV64Xa2lqbzebn5zd61qOOWFKi5557Tq/XG43GuLg4p+dSJBKZTCar1Wqz2XqKdo9gM5dPj2lo73rn1KV+fYchscFsri/l0q8v0v7LdbPDg4bNDAEApKWl7d+/H+4g7+fnFxERgZ8OCAwMhEGTTvtCY6yeMxUA8M6pS91W27ankvt79tSoRxrau+As5o8NytudpqVJvU2iw3epz3gQqEcQBOnz3aPT6d9+++3MmTPhPB2Hw8HrUAaD8e23327cuDE8PBzeHz8/PwaDERMT8+mnn+7atcu1Q4lEsm7dOr1eHxERsX379o0bN2ZlZWHOqcjIyNLS0ldeeaV3qTDi4uL8/PzcLjcfGAaDgclkum5Jg6Lo9u3beTyeQCA4efLkmTNnysrKernJdrv9ypUr4Fc1N1pwjBxwoarbQ2azuaOjA0XRXpqbzebFeSWL80rMZvMAzv5+2ZXFeSUOh+OWrmP2vm+qlNoBdDJ4tFqtVqtFEMSp3Gw2uxbi+dupS4vzSk7XNw/gpFVKLXbJS47++H7ZlQF04hU6Ojq0Wm1PjwFWQavVGo3GnuocP3584sSJ8fHxx44dczpkNpsrKioyMjLmzp0bHx9fUVHhoWBarXb37t379u3r5bye09TUFB8fLxQKnQRoaGhwW94TZWVlu3fvLiwsHLxIXmQk0yMyGIyepkLpdDpci9lL8w/P/TJkLb2lGcDZH48MgW6Rgqu3ZocH9Ws05EV4PB6Px3N1p8G1vD21qlbpanUdAIA8WeMATjo1lAMAuKZpq1bp+jRDhhQ2m917yjJYgcfj9eREtFgsO3bsYLFYL7/8sqsjlk6ni0Sijz76yGg0MhgMmD/VE3g8nkgkstls3333nYdNekGv11OpVJvN5rTlXXt7Oyz3JBujQqGor6/38/NbtGjR4EXyImM1x+rhy3VnlbqPnn58YlBAnuwW3jPnIRNDOFxfSn7lzUpNe/a02KEQcohoMRj/euryYkHk6scn3+40Fdf0MYp2hUwmzw4POnP754JrfXtDRjltbW3wr9+LjwAmPUQQpF+bRSUmJgoEgubmZrlcPkghW1tbAQCu6Y7u3r0LAEBRlMPh9NnJ999/T6VSs7KyRlu6kzGpRKpVuoNXm96bNy02mP3nxya33UN2Vbj/wigUChhW70oEm+lPo1Zq2icGBYyUGTIA7Hb7ph+uzA4Peu2xyQsmRkaxGHmyW25jtC0Wi1gs7il8WxQZ0m21NbR3jaAZ4hX8/f2pVCqNRtu7d6/bt10ikWzcuBEuiunvIqy0tLQ//elPA4jpMplM+A+bRqOhUCgUCsUp52tHRwd0MHsyWZudnb1kyZJRGMc4ulSaJ8DvcHr0IwsmRgIAYoPZ6dGPlCh+TlfpXHVBXl5eW1tbT1FDqVGPnKxXji0zZHPJ5W6rLWexCP7zvxfMWFZU/snF664TNFevXv3HP/6Rl5fndoV+QmgQkN2awgsc02YIAIDNZv/bv/3b119/zeFwXnjhhfDw8JiYGDhqUKlUDQ0N8EXt7Ow8evToAIJH+pWDQqVSHT16tLy8vLOzEwDAYrFmzZq1cuVKuNSFRqNhAojF4n/84x+wkMfjZWZmIghiNpsLCwt7UhOjNoJ27CmRBq3+HdFk/HTM2jkJYQHuFXljY+PixYt76krTZfKnUceQGdJiMAqC2avnTMWexdhg9nvzpnVb3aw0qauri4iI6MmA77pna7uHLE2cOITiDhebNm3i8Xh79uyx2WxqtVqtVuOzbKAo+vzzz7/11ltD/RIWFha+++67LBYLZqUDAOj1+tu3b//f//1feHg4jUbDOz7Ky8ubmpoiIyPhQiG5XI6iaHh4+Cg0NPrEx+FwjLQMQ4VEItm5c+fXX3/t9vvT2GpYVlS+++nHxpAS8Rz45qxfv14kErmt8MqxMxNYjL+nPzbMgg0pCoVCq9XCABwAQEBAwCOPPDJlypRhcCIUFRVt3ryZxWLxeLxVq1ZNnDgRbqJ89epVbE569uzZ27Ztg79hmostW7bodDqRSLR06VK73R4fHz/Ks8y7ZexZIp5TV1f3P//zPz39VfZfrotiMR5IDQIAqK2t/fOf/9yTBoGxIf+9YMYwSzXUREdHR0dH93TVQ4dKpVq7dm1ISIhIJMKHsfB4vOjo6EWLFiUnJ1MoFBiKjR0KCgqC0UBTpkwZ03uhPMhKxDXJFUa1SneqWbvriZk9VRjr9P5Q5l4a7uC6B5u9e/dCL8xHH33kehRGqbruvtbd3W00Gl0j0MYcD7IS6YUAX+quJ2Yu6Gu1yAOJxWJZ/fjkiSF9zykSeILBYPj2228ZDMbrr7/udtyExSI7zeN2d3ebTCYqlRoaGjocgg4ZD6kSiQ1mP7TfYTqd/nBqzyGisrISbngyf/58txWwLErjx4/Hl2u1WhhpBtOpjV3GZJwIAcHoQaFQUCgUm83WU7J7TIk4uec6Ojrgj7E4I4OHUCIEBIPizp07NBoNRdGeXPhYrhOn4QwsR1F01AaAeAihRAgIBkWfKZ2vXr0KfziFpTY3N4NRHELmOYQSISAYQgwGQ2lpKY1Gc01lCJMte7L0bpRDKBECgkERExNjtVrJZLLbtFKfffYZHMu4ekxgIiInbysA4ANx5cbvKvAGzuHLda8cO+Nlub0HoUQICAZFYmIigiBUKvXMGef3XCKR5Ofn02g0q9XqpETsdjuc+nUNEkkXjP9J3X6s5jb8Z3FN08GrTf8xO2HIrmCwEEqEgGBQiEQiJpPJZDK3b98OtyiAlJSUvPbaaxkZGSwWi0ajwXQEGPfu3evJEpnB56VHPwJTCA8s++cw8yCvnSEgGB5kMtmLL77I4/GMRmNgYGBERERLS4tarebxeKWlpW+++ebt27etVqtAIGAwGHv37gUA6HS61NRUKpW6fft2101aWwzGt05enBgUoDHeEwT59yuH7vBDWCIEBINFKBR+8803UVFRNputo6OjqqpKrVanpqYeP36cTqfDPMwIgpw/fx5bPmMwGDQaTUtLC5fLde0wgs1cLIhsaO8KY/qOcg0CCEuEgMCLqFSqlpYWAEBERATeCaLT6a5duxYYGIhPbSOXy8lkck/5Sj4QV1Zq2v1p1K9eSB1qsQcJoUQICEYdhy/XnaxXLhZEnqxXLhM+2t/NDIYZYjhDQDC6gNk/Vz8++bXHJsMUwn3Gs40shBIhIBhFOGX/hBuqfXLx+kjL1RuEEiEgGEXALNyYMzU2mJ0UFlSi+Bm/5etog/CJEBAQDArCEiEgIBgUhBIhICAYFIQSISAgGBSEEiEgIBgUhBIhICAYFIQSISAgGBSEEiEgIBgUhBIhICAYFIQSISAgGBSEEiEgIBgUhBIhICAYFIQSISAgGBSEEiEgIBgUhBIhICAYFIQSISAgGBSEEiEgIBgUhBJ5uJDJZGvWrJFKpV7vWaVSoSjq9W6HAg9FdbstJoErhBJ58BGLxXa7Hf5+8803V61aFR8f791T5ObmFhcX6/V673Y7FHz++eceipqTkzPKMySPEggl8uCze/duuO0rJDw8nE6ne/cUTU1Nq1ev5vFG71aPGGq1etWqVZ6IumvXLq/fqAcSUk5OzkjLQDCE5ObmSiQSqVSamJhYUVEhFoulUumECRNCQ0O9dQqZTHbu3DmZTJacnFxTU6PRaPbt2ycUCn19fYuKir799tvr16/Hx8dTKBSLxbJv374rV64EBgZWV1fHxMSIxWIqlcpisQwGw8mTJxMSEgAAYrG4sLCwuro6ISGBSqVKJJK2trbjx4+fP38+Pj7e19cXAFBSUnLixImffvopPj7+66+/jo6OhuW5ubmPPfYYJptEIjl69OhPP/0UGRnJYrFkMllpaenVq1eheAAAFEW3/ViVEhMOADh8uc6fRuEwfGHbgwcPTp061Wq1njt3Ti6XHz9+/N69ezExv20Bc/hynSCISaFQAAAfiCthJw8h5OE8mbWtxnz7EBhH66PefavfhKW0YKH9XmtX7Qc91r9vDZjyLsk3uLcztspMjXt9yAwHamI8uprGnQrLu29+hprvuNb38WGQA2Io7ClYTTx9yANAwPQPSSRSL/IMP6tXry4rKzt06BCJROLz+Tk5OfB3f/tBUVShUGD/xG/dJhQKAwMD165dy2AwWltbGxsb165dy2azS0pKEATZsGGDVCo9cODA6tWrd+3aNW/evKSkpMLCQqPRCABQKpVwR+vu7u4bN24AACQSSX19/YYNG+Ry+fbt27du3WowGBobG1euXFlbW/vJJ59s3bq1pKREo9GsXbvWaDQymcywsLAzZ85kZmbKZDI/Pz9MSLlcfu7cufXr1xuNxrfffvvgwYNCoXD8+PFvvfUWm83GLiQsgFFc0+RPo2i6TLHBbKx5VVXVSy+9RKFQDh8+/P777z/55JN/+9vfBAIBfmu7CmXrgomRxTVN8SGc/t7SB4ZhVSJ2y89od6PPOGrv1Rz3bba2S7RgIdrdgnTWjCOz3Va7jxrQ7pbelYit7ZLdctdnHNVx32a3/AzAL6rBov6/nrpFDFfMdw5SWFNdNZRVW9GL/PdRA9pxg+RO+4w4NpsNs8zxvz0HQZD29nbsn/Azjsff3x/+EIlE8BWVSCQZGRkqlYrD4UBXbmVl5aZNmwAAs2bNOnXqFACAyWTCVjTaL6oZGk0qlYpOp7e1tdntdjKZLBKJyGTylClT8vPzYc9vvfUWmUyGJ0pJSVm/fn1mZqZYLH7xxRcxkcrLy5966ilYLSUlRaFQxMXFAQAYDAZe8ldmxr12/EIY03f7H2fhy6lUKgCATCbzeDyoMWNjYxEEwSpMC+OW1DcvmBhZWNc8+je7HDqGVYmA+xbHffPvXkIfnAAOF4e5D8lnnN9vdVwreIDPOCrwIQNg+31hD936kH1IZB+Sn92kbL+YzZq+63cmyTj6bzIPSJixy/379+/evYv9E1MZGNjeI9hrhiDI7du3f/75ZwDAm2++CXCqB6sD7RE8FotFqVQajUYURV955RUSiYSiKKyP7xm+4RAGg8Hn8+VyuUajwZsJeJhMpslkcnsIQZBuqy0gyPmKIJhP2pVJXP9P27t/bFBmTR7fU52HgWFVIrSQWXazBvsnar5j774F30mSXxiZORE7RA2e7dR2HJVFYc9wKiQFThmsTA6UEiQaR/7le2jVnXXYzT4kP+BDHkfhdtVs5vzhpBvj34GSGJF4gSFuB0Ejjtlsxr9yA8PX1xc6LCCe2DLQ8yISiQAAcEqVzWYbDAY2m42iKJlMBgAwmUxo4GDzqTExMX5+fmL4V8IAABuZSURBVGlpaVgrV2JjYysrK2EdyFNPPfWf//mfK1euxFebPHlydXW1UCgEAJw/f37hwoVue/v3k5J/Lp6z6Ycrja0G/HCmT+h0ehjTN/dSXeGStL5rP7gMqxIh+Qb7T/rtz2xuPmnqvOFDIgMHSmZOxB9yxoGSmHG9VRgojvs25qPLsGGL/6SVZlWZ6dZuH9IvQ2vL7WPM2JddW1ECk1zLRyfJycmvv/76u+++GxcX19PXuE9IJBIcC3jOq6++um3btpKSkq6urrlz52ZlZeXk5Lz99tvjx4+n0+lwfmThwoWbN28uKSmZNm0abPXcc8/t2LHjwoULAIDY2Njly5djHUIXJgDgpZde2rZtW3l5eVdXV3Z2tkgkEgqFCILMnz8fL4BIJJJKpZs2bbJYLM8++yzmB8HzgbhymTA2gs387wUz3vuxur+jElFkiCgyZLQ5woaZkdwBz9x80tS034fkBxwoLSTNVUdY22q6ajbDCpQgEWvK+v6eovvmZ1atGPiQHXYz49G/+vGfhOWtZ/4I1YTDbubMOuzk+zA2fm1RHsX0CPcP//uLwL/qF4fdTI98cawoEQCASqUKDQ0lk8nQEICFJpNpV0VdumB8h/ke3PkVgqLo9rOyd9OSPhBXYvs5Dhi73e76jqlUqlOnTq1YsWKQnWMoFIrjx49v2LDBWx16yCvHzhz+Uwq0qh5aiDgRNzBjX3bcN8Pf95E2+73WkZVn8PD5fPig47/GDAYjPoRzTdOG1yAAAFizsdWQLvDCUN/tVxpBEJvN5lo+YAoKCp577jkvdugJxTVNqVGPPOQaBAy3Y3UQ3Le1mVVlToWYZeF1yIyY+9Z24EP2GednbZU5nchnHBXtanKSh+QbTAsWDpE8QwGKoh0Wq6bLhC+Br0R8CCdf2vD39Md6bj0oIiMjX3nlFS92uHz58uEPdUuMDAn1J6LRxooS8SHbu2+ZOm/gyxz3zbRgYe9TvAOGxIy7b5X88o/7LrHPPmS06ypiuOIkD++JM0MhzBBxvknzysy4mrt66FBUKBRarRb6QSMD/SMD3c9WeAVsdtZbjEiwbASbOfwnHYWMESUCfpl8xRdgI46hAJuv8Vwe0MP4f9QCRzEz+L+8fhQKBWoQAEBJffPgvSEEDwljR4k4UACA4/5vA+lxZDY0Q2D4qY/PLxFEDoeJwpo6SK/nfdQ5fqFPeUj00DGkQVzBR1j8Z6rzbDoBQU+MESXS6+yMa/gp0lE5SCViN8p/i0Yb5zzuHXOzM/1lTGtDgmHmQZidGUdm30cNjvs2+N991EBmxPTdrGfs91pRUxP8DT0v3hCTgODBZIxYIr3CnVfk3Q7Nt49jps04CneIfLfDj0qlotFo0AepUqnq6+vnz59PzFASDJIHwRLxLubmk/fufg/HMg672Td88UhL5DXKysouXrwIADAYDGlpad3d3fjlZMNDQUGBSqXySlcGg2HTpk0FBQWuhywWS25urlfOMiaQSCQlJSU9HRKLxUN69of9K+Qzjtp14yPolHU4TPbuW477tl9iVR2oD8nvQXJ8YEtmu7u7U1NTMzMzh18GnU7nLc118+bNlJSU9PR0t0c1Go3b8mHAYDA4Le3xCgUFBdnZ2W4PTZ8+/f79+24PTZ065Ou5HnpLxIds776Fdl1Fu67C1YCYBgEABD62Z4TF8wZSqXTVqlXbtm1TKBRw4dzevXsbGhq2bNnS36yodrtdpVLpdDqxWKzT6QAAKIrK5XJ4VC6Xw3yCCoXCZDJJJBKYgkQqlcpkMliHSqV2dnZKJBKsBACg0+nwJTqdDjZ3yk4ok8mw8wIA6urqGhsb8VlOoAwwiRG20MZgMEgkEolEgtVBURSWwK6w8yoUCrgO0FV+fFZalUolFouxq4YZW/Hyl5aWSqVSWAHeK6wyhkKhEIvF+EvG92AymQwGg0KhkEgkcLmTQqE4f/68WCyGfzJ4mVh9q9UKEz6qVCqLxYIX2GQywR7gIac7D08BwdZAoiharfrlJje2GloMfcxUjrAScdw3AweKnyj9/WE7VsGBDDDbpeO+DThQp6AS2O0v//3uAOqwm+8jbZQgUeDjnzt7Q+5bfmk4dlCpVH/5y1/eeeed5cuXY+OI559/PiIiYuPGjf11iDgcjo0bN549ezYwMDAnJ8dkMlmt1sOHD8OjhYWFMF3ARx99dOzYMQqFsnv3bjisEIvFmL198eJFCoVy8eLFwsJCKOGHH37o6+tbXV0NxyYXL158//33DQaD1WrFTp2bmyuXy7lc7ocffogpDqfVyRKJ5PDhwxQKpaysDKpLg8GQk5NDoVDg2AcAYLfb33nnHZiCoKmpCQCwf/9+2Pzs2bM3b94EAOzevfvIkSNQ/h07dgDceEEmk+3du5fL5ZaWlsKS4uLinTt3+vr6Xrx4EZZg+Q1MJtOHH37I5XLhiTBKSkqOHz/O5XIVCgWKotgdUCgU8HR6vf7tt99uaGgAAKxfvx7rDdqSCoWivLzc19dXLpfDO1ZZWVlRUQEAKCsr27ZtGwCgqqoKHqqqqoJjWHgIf+dlMlleXp6vr69UKj137hwmHplM/vSn61B9vPdjdZ8xdSM5nKGFzEK65FA7uK79BwCQ/SNoIemwAp3/7ABOQeU+brf8svIFP8nCfPRtpMv54wAAINHDxtGCewqExQtMYQ86C8GwUFZWtnbtWphT5w9/+AP8tnO5XOCSmwfDYrHs2rULm+UNCgrCltKSyWQKhQKN6mvXrqnV6vDwcOybjzWhUqkvvfQSnU5vamqKjIxMTEwMCQmBWYhsNtszzzwTHR0tFApXr16dlZV16tSpVatWxcXFCYXCzMzM7OxsOp2+aNEiLPINAGAwGGAaVyj2999/v3r16smTJxuNRizBGgCgoKAgJyeHzWZPnz5969atAIDS0tLs7OzExEQAwNWrV1UqlVarnTJlCjbWsNvteE0Er4VOpy9ZsoTBYCiVytDQULz8P/zww3/8x3/weLypU6euW7cuPT2dx+MtXLgwLi4uPDw8Ly8vPT19xowZcrk8Li4OWjpRUVEwHQHGt99+u3v3bjKZDMvxd2DTpk0Gg8Hf318gEMCR2jfffGMymeBlwnsSHR0dHR0NDYcTJ04AAJhMZldXFwAgMDBw2rRpiYmJsbGxn332Gfh1JRSsk5GRIRQKsUNXrlxZsmRJXFwcl8s9evQoPoYYrmkGAHyxWAT6YiSVCMk3uPeFuX1W6BNasNDtBK3f+IG4Swcvz/CDomhAQAD8bTQaAwMDAS67j1vodPrKlSvh64QgCJZzrF84DdERBHGyekgkEovFstvter3+yJEj8BuLT1mCp7u7G0tuyuPxWlvdL4nU6XQwWxJ2gTqdDnuBo6OjEQTp6OgICwvrU/6ebpFWqz148CD8jc+3igfLY8Tj8ZYuXfrFF18YjUao1MCvSVLwd0OtVmMvcFhYmM1mc7Kwxo0bh/VMIpEUCsXu3bunTBnsZywtLW3//v0pKSkXLlx4/vnn8Ydig9ndVtsy4aOeJI552B2rDzxcLrexsRH+ZjKZnjwTFovlq6++gs+xzWbj8Xg9+fMGg91u7+zsJJFIHA4nOTnZ6VvthL+/PxxoAAB0Ol1wsPtJ9/Hjx3d3d+O/qDweD8vqqFAoZs2axeVyr1z53aInbD0x5njuhZCQkCVLlvSUP80VoVAoFAp37NihUCigNQHVh8Viwf4W4eHhBoMBTr1rNJpeMkhBW6+goGDdunV8Pt9gMHzyySceSuIKiqITJkxISEiYN2+e04PxgbhymfDRPNmtZ+Mn9Bl5SCiRB5ynn3569uzZsbGxFotlz549S5cuheW9GCN0Oh0OHNyC7T4Bv6gMBgNBkMLCQhRF79y5AwvdLvM3m80AACqVmpeXN3fu3PLy8oyMDABARkZGTk5ORkYGiqKNjY1uT81ms6dNm5abmysQCI4cOfL+++/jZcB4/vnnc3JynnnmGalUCi8QJj0yGo16vb6rq4vP5/P5/Pz8/IKCAg6Ho9frs7Oz+Xx+QUEBhUKRSCSRkZEAAMyhi8/5CC8qKytr27ZtGRkZXV1dKIpmZ2djHhCr1QptkJCQkCNHjsTFxbFYrLNnz0ZGRt65cwf2DMnIyNi6deuiRYvq6uqeffbZjIyM9evXL1myRKFQhIWFwfxvmAwWiwWadePHjy8sLHz66afj4uKKi4sFAgF2mTCbJBQY+8vCHtz6zuEhOp1+/vx5tVo9fvz4+fPnYwPD4pomAMBzU2MAAP84U933KioHwYOOVqs9cOBARUVFR0dHdXW1w+EwGo0VFRXwqNFoPF3fjCDI6fpmT3pramrCujWbzQ6HA0XR6upqrVZrNBphiVKpRFHU4XB0dHQYjUaHw2E2m7VaLWzlcDgaGhqwfuDR6urq6upqBEFgq46ODrenrqyshB32VE2r1cJrVCqVsARBkOrq6oaGBny1hoaGyspKrHl1dbVSqYSDnd7lh3essrKyoaEB1sHuA4IgWB2lUgnPqFQqKysr4XU5yVlZWYndBLPZjP8ngiCY/JgwCIJUVlbCczU1NeEv02g0QskxgbEesLsE/0D4Q9u3b29oaDAajQ0NDa+++ip2Y2/pfrur+N89MZKZzQhGCYcv12m6TMSy3YeNpUuXrlmzJioq6vbt2/v374e+3gH0QygRAnD4ch0A4LXHJo+0IATDik6nq6qq0mg0YWFhrm4RzyGUyMPOjw3K8ZyA63fbE0KD+pXrnIAAQiiRhx0skdLYyqhEMHoYM2HvBoPB1c9sMpmc9hay2+1Y9K4noCj6kO/8jikOQoMQDIze/CgSiQROXzGZTPhjBFeOl5aWzpo1y2l+vrS0dM6cOfj8mhqNpqKiwvO4BoVC0d7ejg+OJCAg6Be9aQQYkKdUKpubm+fOnQt+H2Y3zGB6QaFQdHZ2wtgkV1cQn88fisioIcVkMl24cKGn1agEBKMcUk5OTk/HGAwGg8G4d+9eV1fX9OnTsaUWUqn02rVrnZ2dMHxYoVD4+PiUl5f7+/vDJYNyufzq1assFgtBkLNnz7a1tTlZEIcv1015JHDcuHEtBuMZuUoQwgEA2O32y5cvw5pyudxsNrNYLLgkkc/ny2SygIAABEHOnTvX3t6OIEhoaGhjY2NAQEB9fX19ff0jjzxCpVJNJtONGzdCQ0MNBkNra6tWq71y5YrD4QgKCsILYDKZzp8/r9Pp4FgGnlShUFy6dOnOnTthYWEw6BtF0cuXL1+/fh1egkql6urqYrFYAACJRIKJarfbL1y4AG+IRCK5fv16cHAw3HcWnkihUFCpVNgQqw/7tNvt33//fWtrq9Vqxe4S/rZYLJbvbyoFA910HkXRa9euhYaGYiVyudzPzw9b8DJEmEymlpYWGGXvLaRSqScR655gsVjOnTsXFBTkujO5wWDo6urqaWERgSv99omUlJQgCJKSkoIgCEx2otfrCwsLBQKBv7+/0Wg8ceIEl8udOXNmQUHBzZs3RSKRwWDAr6SGfFUlBwC8dfJiYmQILCGRSHV1dXDNUnl5+fXr1wEAKpUKjqTg6mwGg8HhcCIjI7EtHa9evTpp0iQul/vdd98BAEwmE1ziabPZiouL4Yby5eXl2PpxyKFDh2JiYiZNmoRtUi2XyysrK0UikUAgOHDgAHS15Ofn+/r6ikQiqIPa2tq0Wi2sL5VKYZ2zZ882NTWJRCKlUllQUBATE5OQkPDVV18BAFAUPXLkiEAgSEpKKisrg86a0tJSWB8uUSeRSFFRUYGBgZMmTcLEi2AzP5LUwd/Ham770wb+whuNxhkzZhQV/Zb87Y033sBvzd07+NBJVzAt7IparfZ6Lpy1a9d6q6tdu3b1lAbh5s2bVVVV3jpRf+n9ho9O+qdEUBRVKpVJSUkMBmP69On19fUAABKJNGPGDD6fDwcX0dHRfD6fx+NRqVSRSMRmsxMSEjo6OvD9vPbY5DO3f37l2JktqTPwC40nT54M4/PYbLZSqQQANDU1CQQCAICPjw+sw+VyfX19sQ/FnDlz2Gz2lClToK6hUqlYzfDw8OjoaDabHRkZid99XqFQxMbGwkPYii+ZTDZ//nw2m83n8wUCQXNzs06nYzKZQqGQzWa7bkOLLXAgk8nJyclsNjsqKiomJobH42EGBVwuwefzYdQ2tvoDuy1QrXC5XH9/f6d9WGaHBzW2Gux2+5nbPzvtUNdf5s6du2vXLkyNQoPIQ0pLS2/c+N12P3hP9okTJ/Bpypxey54Gv06+8N7r4CtDyV1fftcS11PY7XZ8ocVigX8F11NTKBS85J507qH8PZXgT1FYWAhfq57OPgrpn48DhuXDZAQAAMy27Om2YjuquSII8q9v78Y2PYHExMSUl5eHhISMHz/ex8fHYDBoNJonn/zd7nODn4l0K5XRaMQUE5PJRFHUarVi6197x3WaHKoYk8kEzRPYP/QreYgoMuT63fbrd9uXCWM9b+UWLpe7cuXK9evX5+fn96uhXC4/f/48NJeEQmFJSQlM7RMfH5+dnS2TySoqKu7cufPaa6/x+fxt27bR6fSurq6srCy49N4JqVTa1NTU3Nzc0dGRmpqalpYmlUo7Ojrgqvw1a9bs2rVLoVCcPXvWbDZrNJqUlJSurq4bN24wmUy4ya6/v//Bgwebm5vpdPr69evJZLJOp/vnP/8Jv16wJDc3l8fj3bhxA1s1CwAoLCy8du0aAGD69OmZmZkymay5uXn79u1wUT+sI5PJ8vPzQ0JCAABQftg5nFVYu3Ytm82GWRftdntXV9eqVatgHDr0wa1Zs+bjjz9ub2+Ha/Pv3Lkzffp0CoXS0NBgsVi2bNlCJpMVCsX+/fsDAgKYTObq1astFsuBAwf8/Pyam5vhNcrl8qqqqtraWgaDwePxPvnkEzqdPn369FHuL+ufEoHvxuA9l3CFTxjTt1qlw+sRHo9nMBiuX78+c+ZMEolUWVnJZrO9PvUIn3WnwsDAQL1eD/WIwWAICQnx9/fvJcWeJ1vJMhiMsLCwPp8At2vhEiNDNv1wJYzpu/2Ps/o8Ue90dnampaWdOHGiqKjIbUpEbBoOguXaiIuLmzZt2vz58+Pi4lQqlUQigW/mjh075HK5UCiMj49/8cUXoWdn06ZN8GXOzMzEj54wAgICFAoFzAy0dOnStLQ0BEHgl9Zut2O2am1t7a5du2CdnTt3Zmdnw5xs0dHR3d3dMLNJUVHRN998k5mZ+emnn0JFIJFICgsLs7OzW1tbFy5ciH9E5XJ5U1MTlHzLli1JSUlCoVAgEKxZswbvmN+5c+eXX35JJpOxUdinn366atUqPp8vl8s/++yzTZs2/etf/xIKhdj9kcvl2H2D61OoVGpFRcWhQ4dIJNKqVaveeeedzMzMgwcP1tbWCoXC9957b9++fXQ6vaioSCwWp6Wl3bx5c+fOnQwGA6Zcgjc8LS0tOjq6sLAwPT19TMwb9j2cwUdSkEikqVOnFhQUKBQKmUwGv0s9mSHYa4Y9K5Bqla6wrvndtKQ/PzZ565lqp1ZhYWGNjY08Hi8qKkoqlWIrC7GvPYfDkcvl0Ip2HT3abDasZk9xdHANNcwTh6WKmzNnTllZmVwul0qlGo0GDnaYTKZYLMay1HG53GvXrsnlcvicueoRTB3YbDa73R4XF6fRaGCWPSyvn6vMHA5HqVQ6pfmLYDO7rTbRrw6jwbNz587NmzdbLBZXl2pISEjMr4wf77yJN0yuV19fjz3Qc+fOhR4r8Oslk0ikq1ev7tixY9u2bTCjh1uwv2YvDlfMvA0MDORwOAAA+H88c+bMgVm/Ojs7q6qqxGIx/gaGh4fjK1+/fh2zAUUiETZYwKdNU6lUsbGx0D6FCQHsdrvFYoEj07i4ONiqtrY2KanHFUZwHB0YGAg/e1QqFfqz4cXC23jx4kWxWNzR0QGlZbFY8LuFGUQ2mw2+LMnJyQUFBZ9//nm/4p5GhL4tkfDwcLzCFolEMTExSqUyICAAeitiY3+zt0NCQrCkDM888wz8q+ALITBdUmwwe0vqDOguxfc/ceJEAACbzc7KysL8C8nJyfDpjI6OxvRaUlISLPTx8Zk/fz4AwN/fPzk5GQAAs1TAttOmTXNyti9btqympobFYmVlZUEvI4/Hy8rKun37dkBAwLJly2C17OxshUKh1+tDQkJ8fX35fP6zzz4LvULTpk2Db+P8+fPh0xMVFYWplYULF8InadmyZU1NTXq9XiAQwAcF27yew+FAjwybzX7yySfb2trwEtrtdn8aFS7H9grwc7du3TrX+Qg4gsD+6eoAgmDqz2g0Ok2ui8Xi+vr6tWvXksnkXvI/4+0dCHxCejI2XVMZQaxWK9YEPi0xMTELFy7EWuEr0+l07LwWi8WtjqPRaE6tvGL/4jMzwcRC06ZNMxqNMTExcNzUC3w+f9euXXK5fPPmzXv37h28MENH30oETvTiS3g8Hj6+C++dwlfGPjtOPeDHL04+Edgb1iH+acZPEmPlWCGJRIKno9PpsJBMJmNHXXd7hoN8p07YbLZrahyYiq6na8dfJv4+YBKSSCSndxL7J/62wDwX+Grf3riTNdnZKBgkaWlp33//fXW1s/X3wgsvYK+Qk51CJpOhpZmUlLR58+bFixeTSKTvv//+r3/9KwCATqfDz2ZXVxf8kmOWHXRY9C6Pr69veXl5WlqaXC53HdO5HTBCm//UqVPwL8XlcvV6fWJiosFgcEpHhJGQkPDxxx/DMcjp06dhTIOTPcjj8TQajU6n4/F45eXlsPOQkBCpVJqYmCgWi6GXRCQSwXyLMMcHnU6HCZ90Oh3Mk+wWaBHT6XQGg2EwGGDaRHi9rmYpDFMAAKhUqrCwMM+zH40gvcWJEIwghyvrV81KwPLiDZh79+7B5x7+c+7cuYcOHXr11VfxczRUKtX3V5zSakVERBw6dMjhcMTHx4eFhe3bt6+srCwrKwtuRBAWFrZ7924ulztv3ryysrKjR49GRETAufOgoCC5XF5aWooNJcxmM4IgMIJRrVbPmDEjNDS0paXlwIED0dHRoaGhCQkJMKMHNNB+/vnnGTNmjBs3rrW1dcKECQwGg0QiUanUjz/++NFHH120aBEA4PHHHz99+vSXX34pl8sFAkFgYKBOp5s0aRL+KlgsFpfLzc3NvXDhwssvvwwNZ9dqs2fP/uc//1lZWZmamgq/QImJiT/88MORI0d8fX3feOONcePGJSQkNDQ0fPHFF5WVlVFRUTDf4p49e3x8fIRCYXR0NJlM1mg0UOOo1eqpU6dSKJTOzk4WixUUFDR79uyioqKjR49qNJpJkyYxGAx4HwAAd+/eDQ0NZbFYkZGRBw8eZDAYNptt3759Z8+eXbt2bb8m1IYfYgEeAQHBoBgzC/AICAhGJ4QSISAgGBSEEiEgIBgUhBIhICAYFIQSISAgGBSEEiEgIBgUhBIhICAYFP8P3ya8obHopYMAAAAASUVORK5CYII=)"
      ],
      "metadata": {
        "id": "KG-cuvCFvXhN"
      }
    },
    {
      "cell_type": "code",
      "source": [
        "tf = TfidfVectorizer(analyzer='word', ngram_range=(1, 3), min_df=0, stop_words='english')\n",
        "tfidf_matrix = tf.fit_transform(ds['description'])"
      ],
      "metadata": {
        "id": "ysLT4R2KaDE4"
      },
      "execution_count": null,
      "outputs": []
    },
    {
      "cell_type": "code",
      "source": [
        "#Here, the tfidf_matrix is the matrix containing each word and its TF-IDF score with regard to each document, or item in this case."
      ],
      "metadata": {
        "id": "xH4V7HK7vo2h"
      },
      "execution_count": null,
      "outputs": []
    },
    {
      "cell_type": "code",
      "source": [
        "cosine_similarities = linear_kernel(tfidf_matrix, tfidf_matrix)\n",
        "\n",
        "results = {}\n",
        "\n",
        "for idx, row in ds.iterrows():\n",
        "    similar_indices = cosine_similarities[idx].argsort()[:-100:-1]\n",
        "    similar_items = [(cosine_similarities[idx][i], ds['id'][i]) for i in similar_indices]\n",
        "\n",
        "    results[row['id']] = similar_items[1:]\n",
        "print('done!')    "
      ],
      "metadata": {
        "colab": {
          "base_uri": "https://localhost:8080/"
        },
        "id": "9a3YzBz7aDQs",
        "outputId": "e05346c2-97e9-4d6f-b65e-b2efeb3e4782"
      },
      "execution_count": null,
      "outputs": [
        {
          "output_type": "stream",
          "name": "stdout",
          "text": [
            "done!\n"
          ]
        }
      ]
    },
    {
      "cell_type": "code",
      "source": [
        "#we’ve calculated the cosine similarity of each item with every other item in the dataset, and then arranged them according to their \n",
        "#similarity with item i, and stored the values in results"
      ],
      "metadata": {
        "id": "pKdh_mOSv7OT"
      },
      "execution_count": null,
      "outputs": []
    },
    {
      "cell_type": "code",
      "source": [
        "# Just reads the results out of the dictionary.\n",
        "def item(id):\n",
        "    return ds.loc[ds['id'] == id]['description'].tolist()[0].split(' - ')[0]\n",
        "def recommend(item_id, num):\n",
        "    print(\"Recommending \" + str(num) + \" products similar to \" + item(item_id) + \"...\")\n",
        "    print(\"-------\")\n",
        "    recs = results[item_id][:num]\n",
        "    for rec in recs:\n",
        "        print(\"Recommended: \" + item(rec[1]) + \" (score:\" + str(rec[0]) + \")\")"
      ],
      "metadata": {
        "id": "QFlxbRrdaDSG"
      },
      "execution_count": null,
      "outputs": []
    },
    {
      "cell_type": "code",
      "source": [
        "#Here, we just input an item_id and the number of recommendations that we want, and voilà! Our function collects the results[] \n",
        "#corresponding to that item_id, and we get our recommendations on the screen."
      ],
      "metadata": {
        "id": "Su4pHNlXwDXr"
      },
      "execution_count": null,
      "outputs": []
    },
    {
      "cell_type": "code",
      "source": [
        "recommend(item_id=11, num=5)"
      ],
      "metadata": {
        "colab": {
          "base_uri": "https://localhost:8080/"
        },
        "id": "nNuCRqN6aDUQ",
        "outputId": "6aa35db7-9a1f-46a5-98d4-5c22a8348f28"
      },
      "execution_count": null,
      "outputs": [
        {
          "output_type": "stream",
          "name": "stdout",
          "text": [
            "Recommending 5 products similar to Baby sunshade top...\n",
            "-------\n",
            "Recommended: Sunshade hoody (score:0.21330296021085024)\n",
            "Recommended: Baby baggies apron dress (score:0.10975311296284812)\n",
            "Recommended: Runshade t-shirt (score:0.09988151262780731)\n",
            "Recommended: Runshade t-shirt (score:0.09530698241688207)\n",
            "Recommended: Runshade top (score:0.08510550093018411)\n"
          ]
        }
      ]
    },
    {
      "cell_type": "code",
      "source": [
        "\n"
      ],
      "metadata": {
        "id": "CHk3U-2haDWC"
      },
      "execution_count": null,
      "outputs": []
    },
    {
      "cell_type": "code",
      "source": [
        ""
      ],
      "metadata": {
        "id": "GdylwkCUaDZe"
      },
      "execution_count": null,
      "outputs": []
    },
    {
      "cell_type": "code",
      "source": [
        ""
      ],
      "metadata": {
        "id": "XZKo6i0VaDcD"
      },
      "execution_count": null,
      "outputs": []
    }
  ]
}