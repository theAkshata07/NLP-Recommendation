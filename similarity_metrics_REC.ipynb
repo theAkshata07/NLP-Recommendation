{
  "nbformat": 4,
  "nbformat_minor": 0,
  "metadata": {
    "colab": {
      "name": "similarity_metrics_REC.ipynb",
      "provenance": [],
      "collapsed_sections": []
    },
    "kernelspec": {
      "name": "python3",
      "display_name": "Python 3"
    },
    "language_info": {
      "name": "python"
    }
  },
  "cells": [
    {
      "cell_type": "code",
      "execution_count": null,
      "metadata": {
        "colab": {
          "base_uri": "https://localhost:8080/"
        },
        "id": "YTLgSLQ_zrF6",
        "outputId": "9e5f224d-127f-41b4-a67a-1c41b2fc8c20"
      },
      "outputs": [
        {
          "output_type": "stream",
          "name": "stdout",
          "text": [
            "[[0.77950893]]\n"
          ]
        }
      ],
      "source": [
        "from sklearn.metrics.pairwise import cosine_similarity\n",
        "A=np.array([2,3])\n",
        "B=np.array([95,30])\n",
        "result=cosine_similarity(A.reshape(1,-1),B.reshape(1,-1)) #1,-1 for single row and -1,1 for single column(for coverting into 2D array)\n",
        "print(result)"
      ]
    },
    {
      "cell_type": "code",
      "source": [
        "A.reshape(1,-1)"
      ],
      "metadata": {
        "colab": {
          "base_uri": "https://localhost:8080/"
        },
        "id": "uUOkH5Eb0V-X",
        "outputId": "4a6dbda6-936c-49cf-ccf5-0bfd2adbb13c"
      },
      "execution_count": null,
      "outputs": [
        {
          "output_type": "execute_result",
          "data": {
            "text/plain": [
              "array([[2, 3]])"
            ]
          },
          "metadata": {},
          "execution_count": 14
        }
      ]
    },
    {
      "cell_type": "code",
      "source": [
        "from sklearn.metrics.pairwise import cosine_similarity\n",
        "A=np.array([[2,3]])\n",
        "B=np.array([[500,999]])\n",
        "result=cosine_similarity(A,B) #1,-1 for single row and -1,1 for single column\n",
        "print(result)"
      ],
      "metadata": {
        "colab": {
          "base_uri": "https://localhost:8080/"
        },
        "id": "QXl_s-xC2-Rv",
        "outputId": "36b69eb6-f76b-4c62-914e-8ffc6dd979e2"
      },
      "execution_count": null,
      "outputs": [
        {
          "output_type": "stream",
          "name": "stdout",
          "text": [
            "[[0.99232745]]\n"
          ]
        }
      ]
    },
    {
      "cell_type": "code",
      "source": [
        "#cosine similarity normalizes the vector and then takes dot product"
      ],
      "metadata": {
        "id": "zRNfM2cb3LgL"
      },
      "execution_count": null,
      "outputs": []
    },
    {
      "cell_type": "code",
      "source": [
        "from scipy.stats import pearsonr\n",
        "from numpy.random import randn #rand=numbers from uniform ditstribution betn 0 to 1, randn= normal distribution -infinity to +infinity mean=0 variance=1]\n",
        "\n",
        " \n",
        "# Convert dataframe into series\n",
        "list1 = 20 * randn(1000) + 100\n",
        "list2 = 20 * randn(1000) + 50\n",
        " \n",
        "# Apply the pearsonr()\n",
        "corr, _ = pearsonr(list1, list2)\n",
        "print('Pearsons correlation: %.3f' % corr)"
      ],
      "metadata": {
        "colab": {
          "base_uri": "https://localhost:8080/"
        },
        "id": "CMN7OzqV38vN",
        "outputId": "1522459b-8d76-47ce-8086-54f514d3c28e"
      },
      "execution_count": null,
      "outputs": [
        {
          "output_type": "stream",
          "name": "stdout",
          "text": [
            "Pearsons correlation: -0.046\n"
          ]
        }
      ]
    },
    {
      "cell_type": "code",
      "source": [
        "from numpy.random import rand\n",
        "rand(10)"
      ],
      "metadata": {
        "colab": {
          "base_uri": "https://localhost:8080/"
        },
        "id": "HTq7BgrH6Wts",
        "outputId": "5ced7411-3be4-4b93-865d-07d3f353cf4d"
      },
      "execution_count": null,
      "outputs": [
        {
          "output_type": "execute_result",
          "data": {
            "text/plain": [
              "array([0.20810031, 0.54908942, 0.88596652, 0.7918049 , 0.85181051,\n",
              "       0.71466062, 0.25869654, 0.06819684, 0.72845195, 0.13141174])"
            ]
          },
          "metadata": {},
          "execution_count": 24
        }
      ]
    },
    {
      "cell_type": "code",
      "source": [
        "randn(10)"
      ],
      "metadata": {
        "colab": {
          "base_uri": "https://localhost:8080/"
        },
        "id": "9r8LoXby6h7b",
        "outputId": "95e64c55-fa37-42c7-e847-5d1de5518321"
      },
      "execution_count": null,
      "outputs": [
        {
          "output_type": "execute_result",
          "data": {
            "text/plain": [
              "array([-1.67261969, -0.47888397,  1.26681059,  1.21895572,  0.58774362,\n",
              "       -0.99115661, -1.05673297, -1.60771115, -0.17316225, -1.71781743])"
            ]
          },
          "metadata": {},
          "execution_count": 25
        }
      ]
    }
  ]
}